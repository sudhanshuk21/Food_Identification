{
 "cells": [
  {
   "cell_type": "code",
   "execution_count": 1,
   "metadata": {},
   "outputs": [
    {
     "name": "stdout",
     "output_type": "stream",
     "text": [
      "[{\"name\": \"granny smith\", \"calories\": \"Only available for premium subscribers.\", \"serving_size_g\": \"Only available for premium subscribers.\", \"fat_total_g\": 0.2, \"fat_saturated_g\": 0.0, \"protein_g\": \"Only available for premium subscribers.\", \"sodium_mg\": 1, \"potassium_mg\": 12, \"cholesterol_mg\": 0, \"carbohydrates_total_g\": 13.4, \"fiber_g\": 2.8, \"sugar_g\": 9.5}]\n"
     ]
    }
   ],
   "source": [
    "import requests \n",
    "\n",
    "api_key = '307oKvl6vxkfFPg9QKXRdAYEkgeuTt56dwlPDKf5'\n",
    "query = 'Granny Smith'\n",
    "api_url = 'https://api.api-ninjas.com/v1/nutrition?query={}'.format(query)\n",
    "\n",
    "# Make GET request with API key\n",
    "response = requests.get(api_url, headers={'X-Api-Key': api_key})\n",
    "\n",
    "# Check response status\n",
    "if response.status_code == requests.codes.ok:\n",
    "    print(response.text)  # Print response text\n",
    "else:\n",
    "    print(\"Error:\", response.status_code, response.text) "
   ]
  }
 ],
 "metadata": {
  "kernelspec": {
   "display_name": "myenv",
   "language": "python",
   "name": "python3"
  },
  "language_info": {
   "codemirror_mode": {
    "name": "ipython",
    "version": 3
   },
   "file_extension": ".py",
   "mimetype": "text/x-python",
   "name": "python",
   "nbconvert_exporter": "python",
   "pygments_lexer": "ipython3",
   "version": "3.11.2"
  }
 },
 "nbformat": 4,
 "nbformat_minor": 2
}
